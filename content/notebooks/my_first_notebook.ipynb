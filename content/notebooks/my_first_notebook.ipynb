{
 "cells": [
  {
   "cell_type": "markdown",
   "metadata": {},
   "source": [
    "# Using notebooks\n",
    "\n",
    "This is my first attempt at using a notebook converted from .ipynb to html.  To add this to the blog, we need:\n",
    "\n",
    "* `pip install -r requirements.txt` to get pelican up and running, alongside the tool for converting the .ipynb to .html\n",
    "* `git submodule add git://github.com/danielfrg/pelican-ipynb.git plugins/ipynb` is the tool we need\n",
    "* Tell the config (`pelicanconf.py`) that we want to use md/ipynb, and that we have the plugin installed at `plugins/ipynb`\n",
    "\t\n"
   ]
  },
  {
   "cell_type": "code",
   "execution_count": null,
   "metadata": {},
   "outputs": [],
   "source": [
    "MARKUP = ('md', 'ipynb')\n",
    "PLUGIN_PATH = './plugins'\n",
    "PLUGINS = ['ipynb.markup']"
   ]
  },
  {
   "cell_type": "markdown",
   "metadata": {},
   "source": [
    "* A `.nbdata` file with the same name as the .ipynb file\n",
    "* Run `pelican content` in the root directory\n",
    "* `pelican --listen` to set the dev server up on http://localhost:8000"
   ]
  },
  {
   "cell_type": "code",
   "execution_count": null,
   "metadata": {},
   "outputs": [
    {
     "name": "stdout",
     "output_type": "stream",
     "text": [
      "Hello, world!\n"
     ]
    }
   ],
   "source": [
    "print('Hello, world!')"
   ]
  }
 ],
 "metadata": {},
 "nbformat": 4,
 "nbformat_minor": 0
}
